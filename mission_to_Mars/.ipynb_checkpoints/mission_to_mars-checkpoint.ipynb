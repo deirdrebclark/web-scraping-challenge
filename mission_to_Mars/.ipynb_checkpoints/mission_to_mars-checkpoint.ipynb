{
 "cells": [
  {
   "cell_type": "code",
   "execution_count": 1,
   "metadata": {},
   "outputs": [],
   "source": [
    "#Import dependencies\n",
    "import pandas as pd\n",
    "from bs4 import BeautifulSoup as bs\n",
    "from splinter import Browser\n",
    "\n",
    "from pprint import pprint\n"
   ]
  },
  {
   "cell_type": "code",
   "execution_count": 2,
   "metadata": {},
   "outputs": [],
   "source": [
    "executable_path = {'executable_path': 'chromedriver.exe'}\n",
    "browser = Browser('chrome', **executable_path, headless=False)\n"
   ]
  },
  {
   "cell_type": "code",
   "execution_count": 3,
   "metadata": {},
   "outputs": [],
   "source": [
    "mars_data = {}"
   ]
  },
  {
   "cell_type": "code",
   "execution_count": 4,
   "metadata": {},
   "outputs": [],
   "source": [
    "news_url = 'https://mars.nasa.gov/news/'\n",
    "browser.visit(news_url)"
   ]
  },
  {
   "cell_type": "code",
   "execution_count": 5,
   "metadata": {},
   "outputs": [],
   "source": [
    "#Find the news headlines and paragraphs\n",
    "html = browser.html\n",
    "soup = bs(html, 'lxml')\n",
    "\n",
    "headline = soup.find('div', class_ = 'list_text')\n",
    "\n",
    "div = headline.find('div', class_ = 'content_title')\n",
    "news_title = div.find('a').text.strip()\n",
    "mars_data['news_title'] = news_title\n",
    "news_paragraph = headline.find('div', class_ = 'article_teaser_body').text.strip()\n",
    "mars_data['news_paragraph'] = news_paragraph\n"
   ]
  },
  {
   "cell_type": "code",
   "execution_count": 6,
   "metadata": {},
   "outputs": [],
   "source": [
    "img_url = 'https://www.jpl.nasa.gov/spaceimages/?search=&category=Mars'\n",
    "browser.visit(img_url)"
   ]
  },
  {
   "cell_type": "code",
   "execution_count": 7,
   "metadata": {},
   "outputs": [],
   "source": [
    "#Find the full image\n",
    "html = browser.html\n",
    "soup = bs(html, 'html.parser')\n",
    "\n",
    "browser.links.find_by_partial_text('FULL IMAGE').click()\n",
    "featured_image_url = soup.find('div', class_ = 'img').img['src']\n",
    "\n",
    "mars_data['featured_image_url'] = 'https://astrogeology.usgs.gov' + featured_image_url\n"
   ]
  },
  {
   "cell_type": "code",
   "execution_count": 8,
   "metadata": {},
   "outputs": [],
   "source": [
    "tweet_url = 'https://twitter.com/marswxreport?lang=en'\n",
    "browser.visit(tweet_url)\n"
   ]
  },
  {
   "cell_type": "code",
   "execution_count": 10,
   "metadata": {},
   "outputs": [
    {
     "name": "stdout",
     "output_type": "stream",
     "text": [
      "InSight sol 455 (2020-03-08) low -95.4ºC (-139.8ºF) high -13.0ºC (8.5ºF)\n",
      "winds from the SSE at 6.0 m/s (13.5 mph) gusting to 20.7 m/s (46.2 mph)\n",
      "pressure at 6.40 hPa\n"
     ]
    }
   ],
   "source": [
    "html = browser.html\n",
    "soup = bs(html, 'html.parser')\n",
    "\n",
    "mars_weather = soup.find_all('span', class_='css-901oao css-16my406 r-1qd0xha r-ad9z0x r-bcqeeo r-qvutc0')[40].get_text()\n",
    "\n",
    "mars_data['mars_weather'] = mars_weather\n"
   ]
  },
  {
   "cell_type": "code",
   "execution_count": 12,
   "metadata": {},
   "outputs": [],
   "source": [
    "fact_url = 'https://space-facts.com/mars/'\n",
    "\n",
    "tables = pd.read_html(fact_url)[0]\n",
    "tables.columns = [\"description\", \"value\"]\n",
    "tables.set_index(\"description\", inplace=True)\n",
    "\n",
    "mars_data['table'] = tables.to_html()\n"
   ]
  },
  {
   "cell_type": "code",
   "execution_count": 13,
   "metadata": {},
   "outputs": [],
   "source": [
    "astro_url = 'https://astrogeology.usgs.gov/search/results?q=hemisphere+enhanced&k1=target&v1=Mars'\n",
    "browser.visit(astro_url)\n"
   ]
  },
  {
   "cell_type": "code",
   "execution_count": 14,
   "metadata": {},
   "outputs": [],
   "source": [
    "html_code = []\n",
    "links = []\n",
    "hemisphere_image_urls = []\n",
    "\n",
    "html = browser.html\n",
    "soup = bs(html, 'lxml')\n",
    "\n",
    "\n",
    "links_div = soup.find('div', class_ = 'collapsible results')\n",
    "html_code = links_div.find_all('a')\n",
    "\n",
    "\n",
    "for x in html_code:\n",
    "    if x:\n",
    "        links.append(x['href'])\n",
    "        \n",
    "\n",
    "for link in links:\n",
    "    \n",
    "    browser.visit('https://astrogeology.usgs.gov' + link) \n",
    "    browser.links.find_by_partial_href('open').click()   \n",
    "        \n",
    "    html = browser.html\n",
    "    soup = bs(html, 'lxml')\n",
    "    \n",
    "    div = soup.find('div', class_ = 'container')\n",
    "    image = div.find('img', class_ = 'wide-image')\n",
    "    image_source = image['src']\n",
    "    \n",
    "    div = soup.body.find('div', class_ = 'container')\n",
    "    title = div.find('h2', class_ = 'title').text.strip()\n",
    "   \n",
    "    hemisphere_image_urls.append({'img_url': 'https://astrogeology.usgs.gov' + image_source})\n",
    "    hemisphere_image_urls.append({'title':title})\n",
    "    browser.back()\n",
    "    \n",
    "mars_data['hemisphere_image_urls'] = hemisphere_image_urls  \n",
    "    "
   ]
  },
  {
   "cell_type": "code",
   "execution_count": null,
   "metadata": {},
   "outputs": [],
   "source": [
    "browser.quit"
   ]
  }
 ],
 "metadata": {
  "kernelspec": {
   "display_name": "Python [conda env:.conda-PythonData]",
   "language": "python",
   "name": "conda-env-.conda-PythonData-py"
  },
  "language_info": {
   "codemirror_mode": {
    "name": "ipython",
    "version": 3
   },
   "file_extension": ".py",
   "mimetype": "text/x-python",
   "name": "python",
   "nbconvert_exporter": "python",
   "pygments_lexer": "ipython3",
   "version": "3.6.9"
  }
 },
 "nbformat": 4,
 "nbformat_minor": 2
}
