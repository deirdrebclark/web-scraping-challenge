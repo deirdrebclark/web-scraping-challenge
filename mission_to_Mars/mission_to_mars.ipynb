{
 "cells": [
  {
   "cell_type": "code",
   "execution_count": null,
   "metadata": {},
   "outputs": [],
   "source": [
    "#Import dependencies\n",
    "import pandas as pd\n",
    "from bs4 import BeautifulSoup as bs\n",
    "from splinter import Browser\n",
    "\n",
    "from pprint import pprint\n"
   ]
  },
  {
   "cell_type": "code",
   "execution_count": null,
   "metadata": {},
   "outputs": [],
   "source": [
    "executable_path = {'executable_path': 'chromedriver.exe'}\n",
    "browser = Browser('chrome', **executable_path, headless=False)\n"
   ]
  },
  {
   "cell_type": "code",
   "execution_count": null,
   "metadata": {},
   "outputs": [],
   "source": [
    "news_url = 'https://mars.nasa.gov/news/'\n",
    "browser.visit(news_url)"
   ]
  },
  {
   "cell_type": "code",
   "execution_count": null,
   "metadata": {},
   "outputs": [],
   "source": [
    "#Find the news headlines and paragraphs\n",
    "html = browser.html\n",
    "soup = bs(html, 'html.parser')\n",
    "\n",
    "headlines = soup.find_all('div', class_ = 'list_text')\n",
    "\n",
    "for headline in headlines:\n",
    "    div = headline.find('div', class_ = 'content_title')\n",
    "    news_title = div.find('a').text.strip()\n",
    "    print(news_title)\n",
    "    news_paragraph = headline.find('div', class_ = 'article_teaser_body').text.strip()\n",
    "    print(news_paragraph)\n",
    "    print('<-------------------------->')\n"
   ]
  },
  {
   "cell_type": "code",
   "execution_count": null,
   "metadata": {},
   "outputs": [],
   "source": [
    "img_url = 'https://www.jpl.nasa.gov/spaceimages/?search=&category=Mars'\n",
    "browser.visit(img_url)"
   ]
  },
  {
   "cell_type": "code",
   "execution_count": null,
   "metadata": {},
   "outputs": [],
   "source": [
    "#Find the full image\n",
    "html = browser.html\n",
    "soup = bs(html, 'html.parser')\n",
    "\n",
    "browser.links.find_by_partial_text('FULL IMAGE').click()\n",
    "featured_image_url = soup.find('div', class_ = 'img').img['src']\n",
    "\n",
    "pprint(featured_image_url)\n"
   ]
  },
  {
   "cell_type": "code",
   "execution_count": null,
   "metadata": {},
   "outputs": [],
   "source": [
    "tweet_url = 'https://twitter.com/marswxreport?lang=en'\n",
    "browser.visit(tweet_url)\n"
   ]
  },
  {
   "cell_type": "code",
   "execution_count": null,
   "metadata": {},
   "outputs": [],
   "source": [
    "html = browser.html\n",
    "soup = bs(html, 'html.parser')\n",
    "\n",
    "mars_weather = soup.find('div', class_ = 'css-901oao r-hkyrab r-1qd0xha r-1b43r93 r-16dba41 r-ad9z0x r-bcqeeo r-bnwqim r-qvutc0').text\n",
    "print(mars_weather)\n"
   ]
  },
  {
   "cell_type": "code",
   "execution_count": null,
   "metadata": {},
   "outputs": [],
   "source": [
    "fact_url = 'https://space-facts.com/mars/'\n",
    "\n",
    "tables = pd.read_html(fact_url)\n",
    "tables"
   ]
  },
  {
   "cell_type": "code",
   "execution_count": null,
   "metadata": {},
   "outputs": [],
   "source": [
    "astro_url = 'https://astrogeology.usgs.gov/search/results?q=hemisphere+enhanced&k1=target&v1=Mars'\n",
    "browser.visit(astro_url)\n"
   ]
  },
  {
   "cell_type": "code",
   "execution_count": null,
   "metadata": {},
   "outputs": [],
   "source": [
    "html_code = []\n",
    "links = []\n",
    "hemisphere_image_urls = []\n",
    "\n",
    "html = browser.html\n",
    "soup = bs(html, 'html.parser')\n",
    "\n",
    "\n",
    "links_div = soup.find('div', class_ = 'collapsible results')\n",
    "html_code = links_div.find_all('a')\n",
    "\n",
    "\n",
    "for x in html_code:\n",
    "    if x:\n",
    "        links.append(x['href'])\n",
    "        \n",
    "\n",
    "for link in links:\n",
    "    \n",
    "    browser.visit('https://astrogeology.usgs.gov' + link)\n",
    "    \n",
    "    browser.links.find_by_partial_href('open').click()\n",
    "    \n",
    "    image = soup.find('div', class_ = 'wide-image-wrapper').img['src']\n",
    "    #div2 = div.find('div', class_= 'wrapper')\n",
    "    #image = div2.find('img', class_ = 'wide-image')\n",
    "    \n",
    "    title = soup.body.find('div', class_ = 'content').h2.text.strip()\n",
    "    #title = div.find('div', class_ = 'content')\n",
    "    #title = div3.find('h2', class_ = 'title')\n",
    "   \n",
    "    hemisphere_image_urls.append({'img_url': image})\n",
    "    hemisphere_image_urls.append({'title':title})\n",
    "    browser.back()\n",
    "    \n",
    "print(hemisphere_image_urls)       \n",
    "    "
   ]
  },
  {
   "cell_type": "code",
   "execution_count": null,
   "metadata": {},
   "outputs": [],
   "source": []
  }
 ],
 "metadata": {
  "kernelspec": {
   "display_name": "Python [conda env:.conda-PythonData]",
   "language": "python",
   "name": "conda-env-.conda-PythonData-py"
  },
  "language_info": {
   "codemirror_mode": {
    "name": "ipython",
    "version": 3
   },
   "file_extension": ".py",
   "mimetype": "text/x-python",
   "name": "python",
   "nbconvert_exporter": "python",
   "pygments_lexer": "ipython3",
   "version": "3.6.9"
  }
 },
 "nbformat": 4,
 "nbformat_minor": 2
}
